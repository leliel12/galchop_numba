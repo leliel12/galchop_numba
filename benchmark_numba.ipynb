{
 "cells": [
  {
   "cell_type": "code",
   "execution_count": 1,
   "id": "4f06eb8c-71ac-4084-9b01-64fefaaf7fba",
   "metadata": {},
   "outputs": [],
   "source": [
    "import galaxychop as gchop"
   ]
  },
  {
   "cell_type": "code",
   "execution_count": 54,
   "id": "0ca415f0-a7a5-498c-9010-598296b6ae48",
   "metadata": {},
   "outputs": [],
   "source": [
    "gal = gchop.read_hdf5(\"tests/datasets/gal394242.h5\")\n",
    "gal = gal.disassemble()\n",
    "gal[\"potential_s\"] = None\n",
    "gal[\"potential_dm\"] = None\n",
    "gal[\"potential_g\"] = None\n",
    "gal = gchop.mkgalaxy(**gal)\n",
    "gal\n",
    "gal.to_hdf5(\"big.h5\")"
   ]
  },
  {
   "cell_type": "code",
   "execution_count": 3,
   "id": "1113f2d0-388f-4254-b65c-ebc53fac455c",
   "metadata": {},
   "outputs": [],
   "source": [
    "import numba as nb\n",
    "import numpy as np\n",
    "from galaxychop import constants as const\n",
    "\n",
    "# =============================================================================\n",
    "# NUMBA\n",
    "# =============================================================================\n",
    "\n",
    "_numba_eager_signature = nb.float32[:](\n",
    "    nb.float32[:],\n",
    "    nb.float32[:],\n",
    "    nb.float32[:],\n",
    "    nb.float32[:],\n",
    "    nb.float32,\n",
    ")\n",
    "\n",
    "\n",
    "@nb.jit(_numba_eager_signature, nopython=True, parallel=True, fastmath=True)\n",
    "def _numba_potential(x, y, z, m, softening):\n",
    "    \"\"\" \"\"\"\n",
    "    n = len(x)\n",
    "    potential_energy = np.zeros(n, dtype=nb.float32)\n",
    "    soft2 = softening * softening\n",
    "\n",
    "    for i in nb.prange(n):\n",
    "        pe_i = 0.0\n",
    "        x_i = x[i]\n",
    "        y_i = y[i]\n",
    "        z_i = z[i]\n",
    "\n",
    "        for j in range(n):\n",
    "            if i != j:\n",
    "                dx = x_i - x[j]\n",
    "                dy = y_i - y[j]\n",
    "                dz = z_i - z[j]\n",
    "\n",
    "                dist_sq = dx * dx + dy * dy + dz * dz + soft2\n",
    "                dist = np.sqrt(dist_sq)\n",
    "\n",
    "                pe_i = pe_i + m[j] / dist\n",
    "\n",
    "        potential_energy[i] = pe_i\n",
    "\n",
    "    return potential_energy\n",
    "\n",
    "\n",
    "def numba_potential(x, y, z, m, softening):\n",
    "    \"\"\"Wrap the Numba implementation of the gravitational potential.\n",
    "\n",
    "    Parameters\n",
    "    ----------\n",
    "    x, y, z : np.ndarray\n",
    "        Positions of particles. Shape: (n,1).\n",
    "    m : np.ndarray\n",
    "        Masses of particles. Shape: (n,1).\n",
    "    softening : float, optional\n",
    "        Softening parameter. Shape: (1,).\n",
    "\n",
    "    Returns\n",
    "    -------\n",
    "    np.ndarray : float\n",
    "        Specific potential energy of particles.\n",
    "\n",
    "    \"\"\"\n",
    "    soft = np.float32(softening)\n",
    "    epot = _numba_potential(x, y, z, m, soft)\n",
    "\n",
    "    return epot * const.G, np.asarray\n",
    "\n",
    "gchop.preproc.potential_energy.POTENTIAL_BACKENDS[\"numba\"] = numba_potential"
   ]
  },
  {
   "cell_type": "code",
   "execution_count": 6,
   "id": "d0fcc3f5-6e65-43d9-9009-dd829e01cdc7",
   "metadata": {},
   "outputs": [
    {
     "name": "stdout",
     "output_type": "stream",
     "text": [
      "CPU times: user 24min 50s, sys: 1.11 s, total: 24min 51s\n",
      "Wall time: 1min 36s\n"
     ]
    }
   ],
   "source": [
    "%%time\n",
    "galf = gchop.preproc.potential_energy.potential(gal)"
   ]
  },
  {
   "cell_type": "code",
   "execution_count": 5,
   "id": "b4b17d87-158a-41b6-a668-13bfb7e1f296",
   "metadata": {},
   "outputs": [
    {
     "name": "stdout",
     "output_type": "stream",
     "text": [
      "CPU times: user 15min 46s, sys: 651 ms, total: 15min 46s\n",
      "Wall time: 1min 1s\n"
     ]
    }
   ],
   "source": [
    "%%time\n",
    "galnb = gchop.preproc.potential_energy.potential(gal, backend=\"numba\")"
   ]
  },
  {
   "cell_type": "code",
   "execution_count": 7,
   "id": "397cb740-910b-4252-85fb-2e554bddbb16",
   "metadata": {
    "jupyter": {
     "source_hidden": true
    }
   },
   "outputs": [
    {
     "data": {
      "text/plain": [
       "(<Quantity [-195789.8  , -196267.   , -195240.12 , ...,  -64160.082,\n",
       "             -19707.434, -111534.59 ] km2 / s2>,\n",
       " <Quantity [-194351.97 , -193951.72 , -193640.14 , ...,  -17671.715,\n",
       "             -38886.906,  -22311.053] km2 / s2>,\n",
       " <Quantity [-189858.36 , -189337.75 , -189174.36 , ...,  -17366.764,\n",
       "             -23437.795,  -37337.195] km2 / s2>)"
      ]
     },
     "execution_count": 7,
     "metadata": {},
     "output_type": "execute_result"
    }
   ],
   "source": [
    "galf.potential_energy_"
   ]
  },
  {
   "cell_type": "code",
   "execution_count": 8,
   "id": "02acaa78-da99-4740-a833-76aa2f8ba456",
   "metadata": {},
   "outputs": [
    {
     "data": {
      "text/plain": [
       "(<Quantity [-195786.89 , -196264.45 , -195239.16 , ...,  -64160.45 ,\n",
       "             -19707.195, -111532.234] km2 / s2>,\n",
       " <Quantity [-194350.61 , -193950.67 , -193640.3  , ...,  -17671.906,\n",
       "             -38887.105,  -22311.201] km2 / s2>,\n",
       " <Quantity [-189855.62 , -189337.56 , -189171.69 , ...,  -17366.477,\n",
       "             -23438.283,  -37337.824] km2 / s2>)"
      ]
     },
     "execution_count": 8,
     "metadata": {},
     "output_type": "execute_result"
    }
   ],
   "source": [
    "galnb.potential_energy_"
   ]
  },
  {
   "cell_type": "code",
   "execution_count": 12,
   "id": "1bdab8bd-3229-4092-9990-6b9c96653803",
   "metadata": {
    "jupyter": {
     "source_hidden": true
    }
   },
   "outputs": [
    {
     "data": {
      "text/latex": [
       "$4.9375 \\; \\mathrm{\\frac{km^{2}}{s^{2}}}$"
      ],
      "text/plain": [
       "<Quantity 4.9375 km2 / s2>"
      ]
     },
     "execution_count": 12,
     "metadata": {},
     "output_type": "execute_result"
    }
   ],
   "source": [
    "np.max(np.concatenate(galf.potential_energy_) - np.concatenate(galnb.potential_energy_))"
   ]
  },
  {
   "cell_type": "code",
   "execution_count": 13,
   "id": "11f9feb0-9bd2-48ec-8691-9d154851bc71",
   "metadata": {},
   "outputs": [
    {
     "data": {
      "text/plain": [
       "<Galaxy stars=37393, dark_matter=155101, gas=80153, potential=False>"
      ]
     },
     "execution_count": 13,
     "metadata": {},
     "output_type": "execute_result"
    }
   ],
   "source": [
    "gal"
   ]
  },
  {
   "cell_type": "markdown",
   "id": "a6ef885d-d3f9-4998-ba9e-1f30fd7d6022",
   "metadata": {},
   "source": [
    "## Galaxia chiquita (rubenstein)"
   ]
  },
  {
   "cell_type": "code",
   "execution_count": 27,
   "id": "efbc14b7-670e-47ef-bc2e-db940e8a7c5a",
   "metadata": {},
   "outputs": [
    {
     "data": {
      "text/plain": [
       "<Galaxy stars=100, dark_matter=370, gas=390, potential=False>"
      ]
     },
     "execution_count": 27,
     "metadata": {},
     "output_type": "execute_result"
    }
   ],
   "source": [
    "gal = gchop.read_hdf5(\"small.h5\")\n",
    "gal"
   ]
  },
  {
   "cell_type": "code",
   "execution_count": 35,
   "id": "9111cc27-3cfb-41ac-99f7-36d5108e22e9",
   "metadata": {},
   "outputs": [
    {
     "name": "stdout",
     "output_type": "stream",
     "text": [
      "3.57 ms ± 284 μs per loop (mean ± std. dev. of 100 runs, 100 loops each)\n"
     ]
    }
   ],
   "source": [
    "%%timeit -r 100\n",
    "gchop.preproc.potential_energy.potential(gal)"
   ]
  },
  {
   "cell_type": "code",
   "execution_count": 36,
   "id": "5df20852-4044-4bd4-be59-2cafe2760679",
   "metadata": {},
   "outputs": [
    {
     "name": "stdout",
     "output_type": "stream",
     "text": [
      "3.53 ms ± 663 μs per loop (mean ± std. dev. of 100 runs, 100 loops each)\n"
     ]
    }
   ],
   "source": [
    "%%timeit -r 100\n",
    "gchop.preproc.potential_energy.potential(gal, backend=\"numba\")"
   ]
  },
  {
   "cell_type": "code",
   "execution_count": 37,
   "id": "1439d030-1dd5-404f-9da6-e4045f2c1794",
   "metadata": {},
   "outputs": [
    {
     "name": "stdout",
     "output_type": "stream",
     "text": [
      "4.45 ms ± 197 μs per loop (mean ± std. dev. of 100 runs, 100 loops each)\n"
     ]
    }
   ],
   "source": [
    "%%timeit -r 100\n",
    "gchop.preproc.potential_energy.potential(gal, backend=\"numpy\")"
   ]
  },
  {
   "cell_type": "markdown",
   "id": "4e4c362f-c17f-4e3e-bc36-9939c29b5036",
   "metadata": {},
   "source": [
    "### Probemos errores"
   ]
  },
  {
   "cell_type": "code",
   "execution_count": 38,
   "id": "83563438-6c23-4dd7-b6d4-30e88211a54b",
   "metadata": {},
   "outputs": [],
   "source": [
    "results = {}\n",
    "for backend in [\"fortran\", \"numpy\", \"numba\"]:\n",
    "    results[backend] = gchop.preproc.potential_energy.potential(gal, backend=backend)"
   ]
  },
  {
   "cell_type": "code",
   "execution_count": 53,
   "id": "b2a7c08a-f545-4f31-ba84-1bd83e8dc4c3",
   "metadata": {},
   "outputs": [
    {
     "name": "stdout",
     "output_type": "stream",
     "text": [
      ">>> fortran Vs. numpy <<<\n",
      "Mean: 1.1684849754445281e-09 km2 / s2\n",
      "Max: 5.122274160385132e-09 km2 / s2\n",
      "Min: 0.0 km2 / s2\n",
      "\n",
      ">>> fortran Vs. numba <<<\n",
      "Mean: 1.1717337100591863e-09 km2 / s2\n",
      "Max: 5.122274160385132e-09 km2 / s2\n",
      "Min: 0.0 km2 / s2\n",
      "\n",
      ">>> numba Vs. numpy <<<\n",
      "Mean: 1.0017132262563067e-10 km2 / s2\n",
      "Max: 4.656612873077393e-10 km2 / s2\n",
      "Min: 0.0 km2 / s2\n",
      "\n"
     ]
    }
   ],
   "source": [
    "import itertools as it\n",
    "\n",
    "for b0, b1 in map(sorted, it.combinations(results, 2)):\n",
    "    res0, res1 = results[b0].potential_energy_, results[b1].potential_energy_\n",
    "    res0, res1 = np.concatenate(res0), np.concatenate(res1)\n",
    "    diff = np.abs(res0 - res1)\n",
    "    print(f\">>> {b0} Vs. {b1} <<<\")\n",
    "    print(\"Mean:\", np.mean(diff))\n",
    "    print(\"Max:\", np.max(diff))\n",
    "    print(\"Min:\", np.min(diff))\n",
    "    print()\n",
    "    "
   ]
  },
  {
   "cell_type": "code",
   "execution_count": null,
   "id": "ad6b27e5-9f7a-4a29-8f5f-b3645d2d769f",
   "metadata": {},
   "outputs": [],
   "source": []
  }
 ],
 "metadata": {
  "kernelspec": {
   "display_name": "Python 3 (ipykernel)",
   "language": "python",
   "name": "python3"
  },
  "language_info": {
   "codemirror_mode": {
    "name": "ipython",
    "version": 3
   },
   "file_extension": ".py",
   "mimetype": "text/x-python",
   "name": "python",
   "nbconvert_exporter": "python",
   "pygments_lexer": "ipython3",
   "version": "3.10.12"
  }
 },
 "nbformat": 4,
 "nbformat_minor": 5
}
